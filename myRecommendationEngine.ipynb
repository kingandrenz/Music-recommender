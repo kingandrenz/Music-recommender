{
 "cells": [
  {
   "cell_type": "markdown",
   "id": "c53e6ab5",
   "metadata": {},
   "source": [
    "## Music Recommendation Engine\n",
    "\n",
    "* This notebook recommends a set of music similar to other music based on crowdsourced music play count by users\n",
    "* It uses item based collberative filtering to achieve this.\n",
    "* Dataset was downloaded from Kaggle"
   ]
  },
  {
   "cell_type": "code",
   "execution_count": 30,
   "id": "c4932876",
   "metadata": {},
   "outputs": [],
   "source": [
    "%matplotlib inline\n",
    "import pandas as pd\n",
    "import numpy as np\n",
    "from numpy import int64\n",
    "\n",
    "import requests\n",
    "import IPython.display as Disp\n",
    "import sklearn\n",
    "from sklearn.decomposition import TruncatedSVD"
   ]
  },
  {
   "cell_type": "code",
   "execution_count": 31,
   "id": "e4715518",
   "metadata": {},
   "outputs": [
    {
     "data": {
      "text/html": [
       "<div>\n",
       "<style scoped>\n",
       "    .dataframe tbody tr th:only-of-type {\n",
       "        vertical-align: middle;\n",
       "    }\n",
       "\n",
       "    .dataframe tbody tr th {\n",
       "        vertical-align: top;\n",
       "    }\n",
       "\n",
       "    .dataframe thead th {\n",
       "        text-align: right;\n",
       "    }\n",
       "</style>\n",
       "<table border=\"1\" class=\"dataframe\">\n",
       "  <thead>\n",
       "    <tr style=\"text-align: right;\">\n",
       "      <th></th>\n",
       "      <th>song_id</th>\n",
       "      <th>title</th>\n",
       "      <th>release</th>\n",
       "      <th>artist_name</th>\n",
       "      <th>year</th>\n",
       "    </tr>\n",
       "  </thead>\n",
       "  <tbody>\n",
       "    <tr>\n",
       "      <th>0</th>\n",
       "      <td>SOQMMHC12AB0180CB8</td>\n",
       "      <td>Silent Night</td>\n",
       "      <td>Monster Ballads X-Mas</td>\n",
       "      <td>Faster Pussy cat</td>\n",
       "      <td>2003</td>\n",
       "    </tr>\n",
       "    <tr>\n",
       "      <th>1</th>\n",
       "      <td>SOVFVAK12A8C1350D9</td>\n",
       "      <td>Tanssi vaan</td>\n",
       "      <td>Karkuteillä</td>\n",
       "      <td>Karkkiautomaatti</td>\n",
       "      <td>1995</td>\n",
       "    </tr>\n",
       "    <tr>\n",
       "      <th>2</th>\n",
       "      <td>SOGTUKN12AB017F4F1</td>\n",
       "      <td>No One Could Ever</td>\n",
       "      <td>Butter</td>\n",
       "      <td>Hudson Mohawke</td>\n",
       "      <td>2006</td>\n",
       "    </tr>\n",
       "    <tr>\n",
       "      <th>3</th>\n",
       "      <td>SOBNYVR12A8C13558C</td>\n",
       "      <td>Si Vos Querés</td>\n",
       "      <td>De Culo</td>\n",
       "      <td>Yerba Brava</td>\n",
       "      <td>2003</td>\n",
       "    </tr>\n",
       "    <tr>\n",
       "      <th>4</th>\n",
       "      <td>SOHSBXH12A8C13B0DF</td>\n",
       "      <td>Tangle Of Aspens</td>\n",
       "      <td>Rene Ablaze Presents Winter Sessions</td>\n",
       "      <td>Der Mystic</td>\n",
       "      <td>0</td>\n",
       "    </tr>\n",
       "  </tbody>\n",
       "</table>\n",
       "</div>"
      ],
      "text/plain": [
       "              song_id              title  \\\n",
       "0  SOQMMHC12AB0180CB8       Silent Night   \n",
       "1  SOVFVAK12A8C1350D9        Tanssi vaan   \n",
       "2  SOGTUKN12AB017F4F1  No One Could Ever   \n",
       "3  SOBNYVR12A8C13558C      Si Vos Querés   \n",
       "4  SOHSBXH12A8C13B0DF   Tangle Of Aspens   \n",
       "\n",
       "                                release       artist_name  year  \n",
       "0                 Monster Ballads X-Mas  Faster Pussy cat  2003  \n",
       "1                           Karkuteillä  Karkkiautomaatti  1995  \n",
       "2                                Butter    Hudson Mohawke  2006  \n",
       "3                               De Culo       Yerba Brava  2003  \n",
       "4  Rene Ablaze Presents Winter Sessions        Der Mystic     0  "
      ]
     },
     "execution_count": 31,
     "metadata": {},
     "output_type": "execute_result"
    }
   ],
   "source": [
    "dataset_file = r\"C:\\Users\\HP\\Downloads\\Music Info.csv\\song_data.csv\"\n",
    "\n",
    "song_df= pd.read_csv(dataset_url)\n",
    "song_df.head()"
   ]
  },
  {
   "cell_type": "markdown",
   "id": "8bc56d8f",
   "metadata": {},
   "source": [
    "### Removing Duplicates\n",
    "* First, let us check if there are any duplicate Song titles. \n",
    "* These are redundant to the algorithm and must be removed:"
   ]
  },
  {
   "cell_type": "code",
   "execution_count": 32,
   "id": "82535965",
   "metadata": {},
   "outputs": [
    {
     "data": {
      "text/plain": [
       "297571"
      ]
     },
     "execution_count": 32,
     "metadata": {},
     "output_type": "execute_result"
    }
   ],
   "source": [
    "song_df.duplicated(subset='title').sum() # 297,571"
   ]
  },
  {
   "cell_type": "markdown",
   "id": "a60f8fc6",
   "metadata": {},
   "source": [
    "### Random Sampling\n",
    "we need to randomly sample 15,000 rows from the dataframe to avoid running into memory errors:"
   ]
  },
  {
   "cell_type": "code",
   "execution_count": 50,
   "id": "e66930ba",
   "metadata": {},
   "outputs": [],
   "source": [
    "sample_size = 15000\n",
    "song_df = song_df.sample(n=sample_size, replace=False, random_state=490)\n",
    "\n",
    "song_df = song_df.reset_index()\n",
    "song_df = song_df.drop('index',axis=1)"
   ]
  },
  {
   "cell_type": "markdown",
   "id": "57cb644e",
   "metadata": {},
   "source": [
    "### Processing Text Data\n",
    "Now, let us print the head of the dataframe again:"
   ]
  },
  {
   "cell_type": "code",
   "execution_count": 51,
   "id": "17cf0af7",
   "metadata": {},
   "outputs": [
    {
     "data": {
      "text/html": [
       "<div>\n",
       "<style scoped>\n",
       "    .dataframe tbody tr th:only-of-type {\n",
       "        vertical-align: middle;\n",
       "    }\n",
       "\n",
       "    .dataframe tbody tr th {\n",
       "        vertical-align: top;\n",
       "    }\n",
       "\n",
       "    .dataframe thead th {\n",
       "        text-align: right;\n",
       "    }\n",
       "</style>\n",
       "<table border=\"1\" class=\"dataframe\">\n",
       "  <thead>\n",
       "    <tr style=\"text-align: right;\">\n",
       "      <th></th>\n",
       "      <th>song_id</th>\n",
       "      <th>title</th>\n",
       "      <th>release</th>\n",
       "      <th>artist_name</th>\n",
       "      <th>year</th>\n",
       "    </tr>\n",
       "  </thead>\n",
       "  <tbody>\n",
       "    <tr>\n",
       "      <th>0</th>\n",
       "      <td>SOASSJV12AC468A410</td>\n",
       "      <td>Rain</td>\n",
       "      <td>Radio for the deaf</td>\n",
       "      <td>Unreal</td>\n",
       "      <td>0</td>\n",
       "    </tr>\n",
       "    <tr>\n",
       "      <th>1</th>\n",
       "      <td>SOXTVAV12A58A7F54A</td>\n",
       "      <td>Rachel Blues</td>\n",
       "      <td>Legendary Country Blues Artists - CD C</td>\n",
       "      <td>Yank Rachell</td>\n",
       "      <td>0</td>\n",
       "    </tr>\n",
       "    <tr>\n",
       "      <th>2</th>\n",
       "      <td>SOWXPVJ12A8C135EC7</td>\n",
       "      <td>Sexomatic (Für Dich)</td>\n",
       "      <td>Here We Are (Back Again)</td>\n",
       "      <td>Orange Sector</td>\n",
       "      <td>1993</td>\n",
       "    </tr>\n",
       "    <tr>\n",
       "      <th>3</th>\n",
       "      <td>SOCKOXX12AB01852D7</td>\n",
       "      <td>Partout_ C'Est L'Amour</td>\n",
       "      <td>Fleur De Paris</td>\n",
       "      <td>Maurice Chevalier</td>\n",
       "      <td>0</td>\n",
       "    </tr>\n",
       "    <tr>\n",
       "      <th>4</th>\n",
       "      <td>SOJINIC12A8C14148F</td>\n",
       "      <td>Work. Rest. Play. Reggae.</td>\n",
       "      <td>All Sewn Up - A Tribute To Patrik Fitzgerald</td>\n",
       "      <td>Benjamin Zephaniah</td>\n",
       "      <td>0</td>\n",
       "    </tr>\n",
       "  </tbody>\n",
       "</table>\n",
       "</div>"
      ],
      "text/plain": [
       "              song_id                      title  \\\n",
       "0  SOASSJV12AC468A410                       Rain   \n",
       "1  SOXTVAV12A58A7F54A               Rachel Blues   \n",
       "2  SOWXPVJ12A8C135EC7       Sexomatic (Für Dich)   \n",
       "3  SOCKOXX12AB01852D7     Partout_ C'Est L'Amour   \n",
       "4  SOJINIC12A8C14148F  Work. Rest. Play. Reggae.   \n",
       "\n",
       "                                        release         artist_name  year  \n",
       "0                            Radio for the deaf              Unreal     0  \n",
       "1        Legendary Country Blues Artists - CD C        Yank Rachell     0  \n",
       "2                      Here We Are (Back Again)       Orange Sector  1993  \n",
       "3                                Fleur De Paris   Maurice Chevalier     0  \n",
       "4  All Sewn Up - A Tribute To Patrik Fitzgerald  Benjamin Zephaniah     0  "
      ]
     },
     "execution_count": 51,
     "metadata": {},
     "output_type": "execute_result"
    }
   ],
   "source": [
    "song_df.head()"
   ]
  },
  {
   "cell_type": "code",
   "execution_count": 52,
   "id": "37bc4767",
   "metadata": {},
   "outputs": [
    {
     "data": {
      "text/html": [
       "<div>\n",
       "<style scoped>\n",
       "    .dataframe tbody tr th:only-of-type {\n",
       "        vertical-align: middle;\n",
       "    }\n",
       "\n",
       "    .dataframe tbody tr th {\n",
       "        vertical-align: top;\n",
       "    }\n",
       "\n",
       "    .dataframe thead th {\n",
       "        text-align: right;\n",
       "    }\n",
       "</style>\n",
       "<table border=\"1\" class=\"dataframe\">\n",
       "  <thead>\n",
       "    <tr style=\"text-align: right;\">\n",
       "      <th></th>\n",
       "      <th>year</th>\n",
       "    </tr>\n",
       "  </thead>\n",
       "  <tbody>\n",
       "    <tr>\n",
       "      <th>count</th>\n",
       "      <td>15000.000000</td>\n",
       "    </tr>\n",
       "    <tr>\n",
       "      <th>mean</th>\n",
       "      <td>1038.707733</td>\n",
       "    </tr>\n",
       "    <tr>\n",
       "      <th>std</th>\n",
       "      <td>998.422285</td>\n",
       "    </tr>\n",
       "    <tr>\n",
       "      <th>min</th>\n",
       "      <td>0.000000</td>\n",
       "    </tr>\n",
       "    <tr>\n",
       "      <th>25%</th>\n",
       "      <td>0.000000</td>\n",
       "    </tr>\n",
       "    <tr>\n",
       "      <th>50%</th>\n",
       "      <td>1971.000000</td>\n",
       "    </tr>\n",
       "    <tr>\n",
       "      <th>75%</th>\n",
       "      <td>2002.000000</td>\n",
       "    </tr>\n",
       "    <tr>\n",
       "      <th>max</th>\n",
       "      <td>2010.000000</td>\n",
       "    </tr>\n",
       "  </tbody>\n",
       "</table>\n",
       "</div>"
      ],
      "text/plain": [
       "               year\n",
       "count  15000.000000\n",
       "mean    1038.707733\n",
       "std      998.422285\n",
       "min        0.000000\n",
       "25%        0.000000\n",
       "50%     1971.000000\n",
       "75%     2002.000000\n",
       "max     2010.000000"
      ]
     },
     "execution_count": 52,
     "metadata": {},
     "output_type": "execute_result"
    }
   ],
   "source": [
    "song_df.describe()"
   ]
  },
  {
   "cell_type": "code",
   "execution_count": 53,
   "id": "9a77ab95",
   "metadata": {},
   "outputs": [
    {
     "data": {
      "text/plain": [
       "artist_name\n",
       "Pearl Jam                8\n",
       "Blind Lemon Jefferson    6\n",
       "Donovan                  6\n",
       "Björk                    6\n",
       "Herbie Hancock           6\n",
       "                        ..\n",
       "I Wayne                  1\n",
       "I-F                      1\n",
       "I-Octane                 1\n",
       "I:Scintilla              1\n",
       "Überflüssig              1\n",
       "Name: song_id, Length: 11477, dtype: int64"
      ]
     },
     "execution_count": 53,
     "metadata": {},
     "output_type": "execute_result"
    }
   ],
   "source": [
    "song_df.groupby(\"artist_name\")[\"song_id\"].count().sort_values(ascending=False)"
   ]
  },
  {
   "cell_type": "code",
   "execution_count": 54,
   "id": "c709bef8",
   "metadata": {},
   "outputs": [
    {
     "data": {
      "text/html": [
       "<div>\n",
       "<style scoped>\n",
       "    .dataframe tbody tr th:only-of-type {\n",
       "        vertical-align: middle;\n",
       "    }\n",
       "\n",
       "    .dataframe tbody tr th {\n",
       "        vertical-align: top;\n",
       "    }\n",
       "\n",
       "    .dataframe thead th {\n",
       "        text-align: right;\n",
       "    }\n",
       "</style>\n",
       "<table border=\"1\" class=\"dataframe\">\n",
       "  <thead>\n",
       "    <tr style=\"text-align: right;\">\n",
       "      <th></th>\n",
       "      <th>song_id</th>\n",
       "      <th>title</th>\n",
       "      <th>release</th>\n",
       "      <th>artist_name</th>\n",
       "      <th>year</th>\n",
       "    </tr>\n",
       "  </thead>\n",
       "  <tbody>\n",
       "    <tr>\n",
       "      <th>1020</th>\n",
       "      <td>SOHKWON12AB0182B4F</td>\n",
       "      <td>Five Feet High and Rising</td>\n",
       "      <td>The Legendary Performance</td>\n",
       "      <td>Johnny Cash</td>\n",
       "      <td>1959</td>\n",
       "    </tr>\n",
       "    <tr>\n",
       "      <th>9529</th>\n",
       "      <td>SOODHRX12A8C13F958</td>\n",
       "      <td>Come Along And Ride This Train</td>\n",
       "      <td>The Great Lost Performance</td>\n",
       "      <td>Johnny Cash</td>\n",
       "      <td>2000</td>\n",
       "    </tr>\n",
       "  </tbody>\n",
       "</table>\n",
       "</div>"
      ],
      "text/plain": [
       "                 song_id                           title  \\\n",
       "1020  SOHKWON12AB0182B4F       Five Feet High and Rising   \n",
       "9529  SOODHRX12A8C13F958  Come Along And Ride This Train   \n",
       "\n",
       "                         release  artist_name  year  \n",
       "1020   The Legendary Performance  Johnny Cash  1959  \n",
       "9529  The Great Lost Performance  Johnny Cash  2000  "
      ]
     },
     "execution_count": 54,
     "metadata": {},
     "output_type": "execute_result"
    }
   ],
   "source": [
    "Filter_Artist=song_df['artist_name']=='Johnny Cash'\n",
    "song_df[Filter_Artist]"
   ]
  },
  {
   "cell_type": "markdown",
   "id": "1950a114",
   "metadata": {},
   "source": [
    "### Read dataset that shows how many times a user plays each song into pandas dataframe"
   ]
  },
  {
   "cell_type": "code",
   "execution_count": 55,
   "id": "3ce0b674",
   "metadata": {},
   "outputs": [
    {
     "data": {
      "text/html": [
       "<div>\n",
       "<style scoped>\n",
       "    .dataframe tbody tr th:only-of-type {\n",
       "        vertical-align: middle;\n",
       "    }\n",
       "\n",
       "    .dataframe tbody tr th {\n",
       "        vertical-align: top;\n",
       "    }\n",
       "\n",
       "    .dataframe thead th {\n",
       "        text-align: right;\n",
       "    }\n",
       "</style>\n",
       "<table border=\"1\" class=\"dataframe\">\n",
       "  <thead>\n",
       "    <tr style=\"text-align: right;\">\n",
       "      <th></th>\n",
       "      <th>user_id</th>\n",
       "      <th>song_id</th>\n",
       "      <th>listen_count</th>\n",
       "    </tr>\n",
       "  </thead>\n",
       "  <tbody>\n",
       "    <tr>\n",
       "      <th>0</th>\n",
       "      <td>b80344d063b5ccb3212f76538f3d9e43d87dca9e</td>\n",
       "      <td>SOAKIMP12A8C130995</td>\n",
       "      <td>1</td>\n",
       "    </tr>\n",
       "    <tr>\n",
       "      <th>1</th>\n",
       "      <td>b80344d063b5ccb3212f76538f3d9e43d87dca9e</td>\n",
       "      <td>SOBBMDR12A8C13253B</td>\n",
       "      <td>2</td>\n",
       "    </tr>\n",
       "    <tr>\n",
       "      <th>2</th>\n",
       "      <td>b80344d063b5ccb3212f76538f3d9e43d87dca9e</td>\n",
       "      <td>SOBXHDL12A81C204C0</td>\n",
       "      <td>1</td>\n",
       "    </tr>\n",
       "    <tr>\n",
       "      <th>3</th>\n",
       "      <td>b80344d063b5ccb3212f76538f3d9e43d87dca9e</td>\n",
       "      <td>SOBYHAJ12A6701BF1D</td>\n",
       "      <td>1</td>\n",
       "    </tr>\n",
       "    <tr>\n",
       "      <th>4</th>\n",
       "      <td>b80344d063b5ccb3212f76538f3d9e43d87dca9e</td>\n",
       "      <td>SODACBL12A8C13C273</td>\n",
       "      <td>1</td>\n",
       "    </tr>\n",
       "  </tbody>\n",
       "</table>\n",
       "</div>"
      ],
      "text/plain": [
       "                                    user_id             song_id  listen_count\n",
       "0  b80344d063b5ccb3212f76538f3d9e43d87dca9e  SOAKIMP12A8C130995             1\n",
       "1  b80344d063b5ccb3212f76538f3d9e43d87dca9e  SOBBMDR12A8C13253B             2\n",
       "2  b80344d063b5ccb3212f76538f3d9e43d87dca9e  SOBXHDL12A81C204C0             1\n",
       "3  b80344d063b5ccb3212f76538f3d9e43d87dca9e  SOBYHAJ12A6701BF1D             1\n",
       "4  b80344d063b5ccb3212f76538f3d9e43d87dca9e  SODACBL12A8C13C273             1"
      ]
     },
     "execution_count": 55,
     "metadata": {},
     "output_type": "execute_result"
    }
   ],
   "source": [
    "triplets_file = r\"C:\\Users\\HP\\Downloads\\Music Info.csv\\10000.txt\"\n",
    "songs_to_user_df = pd.read_table(triplets_file,header=None)\n",
    "songs_to_user_df.columns = ['user_id', 'song_id', 'listen_count']\n",
    "songs_to_user_df.head()"
   ]
  },
  {
   "cell_type": "code",
   "execution_count": 56,
   "id": "5f1f9eaa",
   "metadata": {},
   "outputs": [
    {
     "data": {
      "text/html": [
       "<div>\n",
       "<style scoped>\n",
       "    .dataframe tbody tr th:only-of-type {\n",
       "        vertical-align: middle;\n",
       "    }\n",
       "\n",
       "    .dataframe tbody tr th {\n",
       "        vertical-align: top;\n",
       "    }\n",
       "\n",
       "    .dataframe thead th {\n",
       "        text-align: right;\n",
       "    }\n",
       "</style>\n",
       "<table border=\"1\" class=\"dataframe\">\n",
       "  <thead>\n",
       "    <tr style=\"text-align: right;\">\n",
       "      <th></th>\n",
       "      <th>listen_count</th>\n",
       "    </tr>\n",
       "  </thead>\n",
       "  <tbody>\n",
       "    <tr>\n",
       "      <th>count</th>\n",
       "      <td>2.000000e+06</td>\n",
       "    </tr>\n",
       "    <tr>\n",
       "      <th>mean</th>\n",
       "      <td>3.045485e+00</td>\n",
       "    </tr>\n",
       "    <tr>\n",
       "      <th>std</th>\n",
       "      <td>6.579720e+00</td>\n",
       "    </tr>\n",
       "    <tr>\n",
       "      <th>min</th>\n",
       "      <td>1.000000e+00</td>\n",
       "    </tr>\n",
       "    <tr>\n",
       "      <th>25%</th>\n",
       "      <td>1.000000e+00</td>\n",
       "    </tr>\n",
       "    <tr>\n",
       "      <th>50%</th>\n",
       "      <td>1.000000e+00</td>\n",
       "    </tr>\n",
       "    <tr>\n",
       "      <th>75%</th>\n",
       "      <td>3.000000e+00</td>\n",
       "    </tr>\n",
       "    <tr>\n",
       "      <th>max</th>\n",
       "      <td>2.213000e+03</td>\n",
       "    </tr>\n",
       "  </tbody>\n",
       "</table>\n",
       "</div>"
      ],
      "text/plain": [
       "       listen_count\n",
       "count  2.000000e+06\n",
       "mean   3.045485e+00\n",
       "std    6.579720e+00\n",
       "min    1.000000e+00\n",
       "25%    1.000000e+00\n",
       "50%    1.000000e+00\n",
       "75%    3.000000e+00\n",
       "max    2.213000e+03"
      ]
     },
     "execution_count": 56,
     "metadata": {},
     "output_type": "execute_result"
    }
   ],
   "source": [
    "songs_to_user_df.describe()"
   ]
  },
  {
   "cell_type": "code",
   "execution_count": 57,
   "id": "fb694482",
   "metadata": {},
   "outputs": [
    {
     "data": {
      "text/plain": [
       "user_id\n",
       "6d625c6557df84b60d90426c0116138b617b9449    711\n",
       "fbee1c8ce1a346fa07d2ef648cec81117438b91f    643\n",
       "4e11f45d732f4861772b2906f81a7d384552ad12    556\n",
       "24b98f8ab023f6e7a1c37c7729c623f7b821eb95    540\n",
       "1aa4fd215aadb160965110ed8a829745cde319eb    533\n",
       "                                           ... \n",
       "10d3b027f494805b9223551e3db03f903953e2cf      1\n",
       "87c22fcd7f5f833a8e33ba8bc5c7f4863dab5aa8      1\n",
       "421be8356c6464ae9da340754c1b0b9510ae50b5      1\n",
       "87a2826a059570052283d542fc03651c3a570afb      1\n",
       "bec79e2e90bf0fe7238385b2ae6af711dd6c6d1d      1\n",
       "Name: listen_count, Length: 76353, dtype: int64"
      ]
     },
     "execution_count": 57,
     "metadata": {},
     "output_type": "execute_result"
    }
   ],
   "source": [
    "songs_to_user_df.groupby('user_id')['listen_count'].count().sort_values(ascending=False)"
   ]
  },
  {
   "cell_type": "markdown",
   "id": "528f2089",
   "metadata": {},
   "source": [
    "### Merge songs and songs to user dataset¶"
   ]
  },
  {
   "cell_type": "code",
   "execution_count": 58,
   "id": "b780a343",
   "metadata": {},
   "outputs": [],
   "source": [
    "combined_songs_df = pd.merge(songs_to_user_df, song_df, on='song_id')"
   ]
  },
  {
   "cell_type": "markdown",
   "id": "17977ea8",
   "metadata": {},
   "source": [
    "Type Markdown and LaTeX: α²."
   ]
  },
  {
   "cell_type": "code",
   "execution_count": 59,
   "id": "4bca2252",
   "metadata": {},
   "outputs": [
    {
     "data": {
      "text/html": [
       "<div>\n",
       "<style scoped>\n",
       "    .dataframe tbody tr th:only-of-type {\n",
       "        vertical-align: middle;\n",
       "    }\n",
       "\n",
       "    .dataframe tbody tr th {\n",
       "        vertical-align: top;\n",
       "    }\n",
       "\n",
       "    .dataframe thead th {\n",
       "        text-align: right;\n",
       "    }\n",
       "</style>\n",
       "<table border=\"1\" class=\"dataframe\">\n",
       "  <thead>\n",
       "    <tr style=\"text-align: right;\">\n",
       "      <th></th>\n",
       "      <th>user_id</th>\n",
       "      <th>song_id</th>\n",
       "      <th>listen_count</th>\n",
       "      <th>title</th>\n",
       "      <th>release</th>\n",
       "      <th>artist_name</th>\n",
       "      <th>year</th>\n",
       "    </tr>\n",
       "  </thead>\n",
       "  <tbody>\n",
       "    <tr>\n",
       "      <th>0</th>\n",
       "      <td>969cc6fb74e076a68e36a04409cb9d3765757508</td>\n",
       "      <td>SOXIIIM12A6D4F66C8</td>\n",
       "      <td>2</td>\n",
       "      <td>All My Friends</td>\n",
       "      <td>All My Friends</td>\n",
       "      <td>LCD Soundsystem</td>\n",
       "      <td>2007</td>\n",
       "    </tr>\n",
       "    <tr>\n",
       "      <th>1</th>\n",
       "      <td>5a905f000fc1ff3df7ca807d57edb608863db05d</td>\n",
       "      <td>SOXIIIM12A6D4F66C8</td>\n",
       "      <td>3</td>\n",
       "      <td>All My Friends</td>\n",
       "      <td>All My Friends</td>\n",
       "      <td>LCD Soundsystem</td>\n",
       "      <td>2007</td>\n",
       "    </tr>\n",
       "    <tr>\n",
       "      <th>2</th>\n",
       "      <td>b61afb42335287239bd40e1dea50d849cbf8a9a9</td>\n",
       "      <td>SOXIIIM12A6D4F66C8</td>\n",
       "      <td>4</td>\n",
       "      <td>All My Friends</td>\n",
       "      <td>All My Friends</td>\n",
       "      <td>LCD Soundsystem</td>\n",
       "      <td>2007</td>\n",
       "    </tr>\n",
       "    <tr>\n",
       "      <th>3</th>\n",
       "      <td>e21477efb83bd323205ce6f5bd662f3df9d477e5</td>\n",
       "      <td>SOXIIIM12A6D4F66C8</td>\n",
       "      <td>1</td>\n",
       "      <td>All My Friends</td>\n",
       "      <td>All My Friends</td>\n",
       "      <td>LCD Soundsystem</td>\n",
       "      <td>2007</td>\n",
       "    </tr>\n",
       "    <tr>\n",
       "      <th>4</th>\n",
       "      <td>b12c786deef0e618b5f277bc337f67128f425efe</td>\n",
       "      <td>SOXIIIM12A6D4F66C8</td>\n",
       "      <td>20</td>\n",
       "      <td>All My Friends</td>\n",
       "      <td>All My Friends</td>\n",
       "      <td>LCD Soundsystem</td>\n",
       "      <td>2007</td>\n",
       "    </tr>\n",
       "  </tbody>\n",
       "</table>\n",
       "</div>"
      ],
      "text/plain": [
       "                                    user_id             song_id  listen_count  \\\n",
       "0  969cc6fb74e076a68e36a04409cb9d3765757508  SOXIIIM12A6D4F66C8             2   \n",
       "1  5a905f000fc1ff3df7ca807d57edb608863db05d  SOXIIIM12A6D4F66C8             3   \n",
       "2  b61afb42335287239bd40e1dea50d849cbf8a9a9  SOXIIIM12A6D4F66C8             4   \n",
       "3  e21477efb83bd323205ce6f5bd662f3df9d477e5  SOXIIIM12A6D4F66C8             1   \n",
       "4  b12c786deef0e618b5f277bc337f67128f425efe  SOXIIIM12A6D4F66C8            20   \n",
       "\n",
       "            title         release      artist_name  year  \n",
       "0  All My Friends  All My Friends  LCD Soundsystem  2007  \n",
       "1  All My Friends  All My Friends  LCD Soundsystem  2007  \n",
       "2  All My Friends  All My Friends  LCD Soundsystem  2007  \n",
       "3  All My Friends  All My Friends  LCD Soundsystem  2007  \n",
       "4  All My Friends  All My Friends  LCD Soundsystem  2007  "
      ]
     },
     "execution_count": 59,
     "metadata": {},
     "output_type": "execute_result"
    }
   ],
   "source": [
    "combined_songs_df.head()"
   ]
  },
  {
   "cell_type": "markdown",
   "id": "5f2efbbf",
   "metadata": {},
   "source": [
    "### Get most listened songs"
   ]
  },
  {
   "cell_type": "code",
   "execution_count": 60,
   "id": "b2bf3648",
   "metadata": {},
   "outputs": [
    {
     "data": {
      "text/plain": [
       "song_id\n",
       "SOLWZVR12AB01849C6    2028\n",
       "SOUDLVN12AAFF43658    1481\n",
       "SOBBKGF12A8C1311EE     720\n",
       "SOBEVGM12A67ADBCA7     675\n",
       "SOODSPH12AB01819C3     618\n",
       "                      ... \n",
       "SOHNDOZ12A8C13684C      69\n",
       "SOFODNB12A6D4FD584      67\n",
       "SOKBJJO12A8C140826      65\n",
       "SOGMORP12A8C13EF63      59\n",
       "SOYYJAM12A6701ED36      56\n",
       "Name: listen_count, Length: 178, dtype: int64"
      ]
     },
     "execution_count": 60,
     "metadata": {},
     "output_type": "execute_result"
    }
   ],
   "source": [
    "combined_songs_df.groupby('song_id')['listen_count'].count().sort_values(ascending=False)"
   ]
  },
  {
   "cell_type": "code",
   "execution_count": 61,
   "id": "6b5d18cd",
   "metadata": {},
   "outputs": [
    {
     "data": {
      "text/plain": [
       "title\n",
       "All The Right Moves              2028\n",
       "Make Love To Your Mind           1481\n",
       "Where Is My Mind?                 720\n",
       "Baby Boy [feat. Beyonce]          675\n",
       "Between Two Lungs                 618\n",
       "                                 ... \n",
       "World Looking In (Radio Edit)      69\n",
       "Just Friends (Sunny)               67\n",
       "Drop The Pressure                  65\n",
       "Auburn and Ivory                   59\n",
       "Sleeping In The Ground             56\n",
       "Name: listen_count, Length: 178, dtype: int64"
      ]
     },
     "execution_count": 61,
     "metadata": {},
     "output_type": "execute_result"
    }
   ],
   "source": [
    "combined_songs_df.groupby('title')['listen_count'].count().sort_values(ascending=False)"
   ]
  },
  {
   "cell_type": "code",
   "execution_count": 62,
   "id": "8e2ff812",
   "metadata": {
    "scrolled": true
   },
   "outputs": [
    {
     "name": "stdout",
     "output_type": "stream",
     "text": [
      "this is title\n",
      "All The Right Moves\n"
     ]
    }
   ],
   "source": [
    "#songs_df_2 = pd.DataFrame(combined_songs_df.groupby('title')['listen_count'].count())\n",
    "songs_df_2 = pd.DataFrame({'count' : combined_songs_df.groupby( [ \"title\"] ).size()}).reset_index()\n",
    "songs_df_2.columns=['title','count']\n",
    "#songs_df_2.head()\n",
    "songs_df_2[(songs_df_2['count'] > 1000)  & (songs_df_2['count']<2028) ].head()\n",
    "song_title = str(songs_df_2[songs_df_2['count'] ==2028 ]['title'].values[0])\n",
    "print(\"this is title\")\n",
    "print(song_title)"
   ]
  },
  {
   "cell_type": "code",
   "execution_count": 63,
   "id": "47699d1b",
   "metadata": {},
   "outputs": [
    {
     "name": "stdout",
     "output_type": "stream",
     "text": [
      "96    Make Love To Your Mind\n",
      "Name: title, dtype: object\n"
     ]
    }
   ],
   "source": [
    "filtered_songs = songs_df_2[(songs_df_2['count'] > 1000) & (songs_df_2['count'] < 2028)]\n",
    "song_titles = filtered_songs['title']\n",
    "print(song_titles)"
   ]
  },
  {
   "cell_type": "code",
   "execution_count": 64,
   "id": "fe3e14d5",
   "metadata": {},
   "outputs": [
    {
     "data": {
      "text/plain": [
       "artist_name\n",
       "OneRepublic     2028\n",
       "Bill Withers    1481\n",
       "Pixies           720\n",
       "The Strokes      678\n",
       "Sean Paul        675\n",
       "                ... \n",
       "Morcheeba         69\n",
       "Musiq             67\n",
       "Mylo              65\n",
       "Beach House       59\n",
       "Blind Faith       56\n",
       "Name: listen_count, Length: 161, dtype: int64"
      ]
     },
     "execution_count": 64,
     "metadata": {},
     "output_type": "execute_result"
    }
   ],
   "source": [
    "combined_songs_df.groupby('artist_name')['listen_count'].count().sort_values(ascending=False)"
   ]
  },
  {
   "cell_type": "code",
   "execution_count": 65,
   "id": "5037c9bc",
   "metadata": {},
   "outputs": [
    {
     "data": {
      "text/plain": [
       "array(['OneRepublic'], dtype=object)"
      ]
     },
     "execution_count": 65,
     "metadata": {},
     "output_type": "execute_result"
    }
   ],
   "source": [
    "Filter = combined_songs_df['song_id']==\"SOLWZVR12AB01849C6\"\n",
    "combined_songs_df[Filter]['artist_name'].unique()\n",
    "#printSongCover(Filter)"
   ]
  },
  {
   "cell_type": "code",
   "execution_count": null,
   "id": "75eb556c",
   "metadata": {},
   "outputs": [],
   "source": []
  },
  {
   "cell_type": "markdown",
   "id": "e06084f2",
   "metadata": {},
   "source": [
    "### Create Pivot Table of User Vs Songs"
   ]
  },
  {
   "cell_type": "code",
   "execution_count": 66,
   "id": "8fed1605",
   "metadata": {},
   "outputs": [],
   "source": [
    "ct_df = combined_songs_df.pivot_table(values='listen_count', index='user_id', columns='title', fill_value=0)"
   ]
  },
  {
   "cell_type": "code",
   "execution_count": 67,
   "id": "5aedc083",
   "metadata": {},
   "outputs": [
    {
     "data": {
      "text/html": [
       "<div>\n",
       "<style scoped>\n",
       "    .dataframe tbody tr th:only-of-type {\n",
       "        vertical-align: middle;\n",
       "    }\n",
       "\n",
       "    .dataframe tbody tr th {\n",
       "        vertical-align: top;\n",
       "    }\n",
       "\n",
       "    .dataframe thead th {\n",
       "        text-align: right;\n",
       "    }\n",
       "</style>\n",
       "<table border=\"1\" class=\"dataframe\">\n",
       "  <thead>\n",
       "    <tr style=\"text-align: right;\">\n",
       "      <th>title</th>\n",
       "      <th>10 Miles Wide</th>\n",
       "      <th>A Horse Is Not A Home</th>\n",
       "      <th>Ain't Nobody</th>\n",
       "      <th>All My Friends</th>\n",
       "      <th>All The Right Moves</th>\n",
       "      <th>Angel Malherido</th>\n",
       "      <th>Ante Up (Robbin Hoodz Theory)</th>\n",
       "      <th>Auburn and Ivory</th>\n",
       "      <th>Away With Murder</th>\n",
       "      <th>B-B-B-Baby</th>\n",
       "      <th>...</th>\n",
       "      <th>Whenever I Say Your Name</th>\n",
       "      <th>Where Is My Mind?</th>\n",
       "      <th>Where You'll Find Me Now</th>\n",
       "      <th>Whisper</th>\n",
       "      <th>With Everything</th>\n",
       "      <th>Workin For A Livin</th>\n",
       "      <th>World Looking In (Radio Edit)</th>\n",
       "      <th>Wrecking Ball</th>\n",
       "      <th>Yellow Sun</th>\n",
       "      <th>You Never Let Go</th>\n",
       "    </tr>\n",
       "    <tr>\n",
       "      <th>user_id</th>\n",
       "      <th></th>\n",
       "      <th></th>\n",
       "      <th></th>\n",
       "      <th></th>\n",
       "      <th></th>\n",
       "      <th></th>\n",
       "      <th></th>\n",
       "      <th></th>\n",
       "      <th></th>\n",
       "      <th></th>\n",
       "      <th></th>\n",
       "      <th></th>\n",
       "      <th></th>\n",
       "      <th></th>\n",
       "      <th></th>\n",
       "      <th></th>\n",
       "      <th></th>\n",
       "      <th></th>\n",
       "      <th></th>\n",
       "      <th></th>\n",
       "      <th></th>\n",
       "    </tr>\n",
       "  </thead>\n",
       "  <tbody>\n",
       "    <tr>\n",
       "      <th>000a5c8b4d8b2c98f7a205219181d039edcd4506</th>\n",
       "      <td>0</td>\n",
       "      <td>0</td>\n",
       "      <td>0</td>\n",
       "      <td>0</td>\n",
       "      <td>0</td>\n",
       "      <td>0</td>\n",
       "      <td>0</td>\n",
       "      <td>0</td>\n",
       "      <td>0</td>\n",
       "      <td>0</td>\n",
       "      <td>...</td>\n",
       "      <td>0</td>\n",
       "      <td>0</td>\n",
       "      <td>0</td>\n",
       "      <td>0</td>\n",
       "      <td>0</td>\n",
       "      <td>0</td>\n",
       "      <td>0</td>\n",
       "      <td>0</td>\n",
       "      <td>0</td>\n",
       "      <td>0</td>\n",
       "    </tr>\n",
       "    <tr>\n",
       "      <th>000d2df2cb8ad7300f89512f8fe8fadc4f99e733</th>\n",
       "      <td>0</td>\n",
       "      <td>0</td>\n",
       "      <td>0</td>\n",
       "      <td>0</td>\n",
       "      <td>0</td>\n",
       "      <td>0</td>\n",
       "      <td>0</td>\n",
       "      <td>0</td>\n",
       "      <td>0</td>\n",
       "      <td>0</td>\n",
       "      <td>...</td>\n",
       "      <td>0</td>\n",
       "      <td>0</td>\n",
       "      <td>0</td>\n",
       "      <td>0</td>\n",
       "      <td>0</td>\n",
       "      <td>0</td>\n",
       "      <td>0</td>\n",
       "      <td>0</td>\n",
       "      <td>0</td>\n",
       "      <td>0</td>\n",
       "    </tr>\n",
       "    <tr>\n",
       "      <th>000ebc858861aca26bac9b49f650ed424cf882fc</th>\n",
       "      <td>0</td>\n",
       "      <td>0</td>\n",
       "      <td>0</td>\n",
       "      <td>0</td>\n",
       "      <td>0</td>\n",
       "      <td>0</td>\n",
       "      <td>0</td>\n",
       "      <td>0</td>\n",
       "      <td>0</td>\n",
       "      <td>0</td>\n",
       "      <td>...</td>\n",
       "      <td>0</td>\n",
       "      <td>0</td>\n",
       "      <td>0</td>\n",
       "      <td>0</td>\n",
       "      <td>0</td>\n",
       "      <td>0</td>\n",
       "      <td>0</td>\n",
       "      <td>0</td>\n",
       "      <td>0</td>\n",
       "      <td>0</td>\n",
       "    </tr>\n",
       "    <tr>\n",
       "      <th>000ef25cc955ad5841c915d269432eea41f4a1a5</th>\n",
       "      <td>0</td>\n",
       "      <td>0</td>\n",
       "      <td>0</td>\n",
       "      <td>0</td>\n",
       "      <td>0</td>\n",
       "      <td>0</td>\n",
       "      <td>0</td>\n",
       "      <td>0</td>\n",
       "      <td>0</td>\n",
       "      <td>0</td>\n",
       "      <td>...</td>\n",
       "      <td>0</td>\n",
       "      <td>0</td>\n",
       "      <td>0</td>\n",
       "      <td>0</td>\n",
       "      <td>0</td>\n",
       "      <td>0</td>\n",
       "      <td>0</td>\n",
       "      <td>0</td>\n",
       "      <td>0</td>\n",
       "      <td>0</td>\n",
       "    </tr>\n",
       "    <tr>\n",
       "      <th>001322829b5dc3edc59bf78189617ddd8f23c82a</th>\n",
       "      <td>0</td>\n",
       "      <td>0</td>\n",
       "      <td>0</td>\n",
       "      <td>0</td>\n",
       "      <td>0</td>\n",
       "      <td>0</td>\n",
       "      <td>0</td>\n",
       "      <td>0</td>\n",
       "      <td>0</td>\n",
       "      <td>0</td>\n",
       "      <td>...</td>\n",
       "      <td>0</td>\n",
       "      <td>0</td>\n",
       "      <td>0</td>\n",
       "      <td>0</td>\n",
       "      <td>0</td>\n",
       "      <td>0</td>\n",
       "      <td>0</td>\n",
       "      <td>0</td>\n",
       "      <td>0</td>\n",
       "      <td>0</td>\n",
       "    </tr>\n",
       "  </tbody>\n",
       "</table>\n",
       "<p>5 rows × 178 columns</p>\n",
       "</div>"
      ],
      "text/plain": [
       "title                                     10 Miles Wide  \\\n",
       "user_id                                                   \n",
       "000a5c8b4d8b2c98f7a205219181d039edcd4506              0   \n",
       "000d2df2cb8ad7300f89512f8fe8fadc4f99e733              0   \n",
       "000ebc858861aca26bac9b49f650ed424cf882fc              0   \n",
       "000ef25cc955ad5841c915d269432eea41f4a1a5              0   \n",
       "001322829b5dc3edc59bf78189617ddd8f23c82a              0   \n",
       "\n",
       "title                                     A Horse Is Not A Home  Ain't Nobody  \\\n",
       "user_id                                                                         \n",
       "000a5c8b4d8b2c98f7a205219181d039edcd4506                      0             0   \n",
       "000d2df2cb8ad7300f89512f8fe8fadc4f99e733                      0             0   \n",
       "000ebc858861aca26bac9b49f650ed424cf882fc                      0             0   \n",
       "000ef25cc955ad5841c915d269432eea41f4a1a5                      0             0   \n",
       "001322829b5dc3edc59bf78189617ddd8f23c82a                      0             0   \n",
       "\n",
       "title                                     All My Friends  All The Right Moves  \\\n",
       "user_id                                                                         \n",
       "000a5c8b4d8b2c98f7a205219181d039edcd4506               0                    0   \n",
       "000d2df2cb8ad7300f89512f8fe8fadc4f99e733               0                    0   \n",
       "000ebc858861aca26bac9b49f650ed424cf882fc               0                    0   \n",
       "000ef25cc955ad5841c915d269432eea41f4a1a5               0                    0   \n",
       "001322829b5dc3edc59bf78189617ddd8f23c82a               0                    0   \n",
       "\n",
       "title                                     Angel Malherido  \\\n",
       "user_id                                                     \n",
       "000a5c8b4d8b2c98f7a205219181d039edcd4506                0   \n",
       "000d2df2cb8ad7300f89512f8fe8fadc4f99e733                0   \n",
       "000ebc858861aca26bac9b49f650ed424cf882fc                0   \n",
       "000ef25cc955ad5841c915d269432eea41f4a1a5                0   \n",
       "001322829b5dc3edc59bf78189617ddd8f23c82a                0   \n",
       "\n",
       "title                                     Ante Up (Robbin Hoodz Theory)  \\\n",
       "user_id                                                                   \n",
       "000a5c8b4d8b2c98f7a205219181d039edcd4506                              0   \n",
       "000d2df2cb8ad7300f89512f8fe8fadc4f99e733                              0   \n",
       "000ebc858861aca26bac9b49f650ed424cf882fc                              0   \n",
       "000ef25cc955ad5841c915d269432eea41f4a1a5                              0   \n",
       "001322829b5dc3edc59bf78189617ddd8f23c82a                              0   \n",
       "\n",
       "title                                     Auburn and Ivory  Away With Murder  \\\n",
       "user_id                                                                        \n",
       "000a5c8b4d8b2c98f7a205219181d039edcd4506                 0                 0   \n",
       "000d2df2cb8ad7300f89512f8fe8fadc4f99e733                 0                 0   \n",
       "000ebc858861aca26bac9b49f650ed424cf882fc                 0                 0   \n",
       "000ef25cc955ad5841c915d269432eea41f4a1a5                 0                 0   \n",
       "001322829b5dc3edc59bf78189617ddd8f23c82a                 0                 0   \n",
       "\n",
       "title                                     B-B-B-Baby  ...  \\\n",
       "user_id                                               ...   \n",
       "000a5c8b4d8b2c98f7a205219181d039edcd4506           0  ...   \n",
       "000d2df2cb8ad7300f89512f8fe8fadc4f99e733           0  ...   \n",
       "000ebc858861aca26bac9b49f650ed424cf882fc           0  ...   \n",
       "000ef25cc955ad5841c915d269432eea41f4a1a5           0  ...   \n",
       "001322829b5dc3edc59bf78189617ddd8f23c82a           0  ...   \n",
       "\n",
       "title                                     Whenever I Say Your Name  \\\n",
       "user_id                                                              \n",
       "000a5c8b4d8b2c98f7a205219181d039edcd4506                         0   \n",
       "000d2df2cb8ad7300f89512f8fe8fadc4f99e733                         0   \n",
       "000ebc858861aca26bac9b49f650ed424cf882fc                         0   \n",
       "000ef25cc955ad5841c915d269432eea41f4a1a5                         0   \n",
       "001322829b5dc3edc59bf78189617ddd8f23c82a                         0   \n",
       "\n",
       "title                                     Where Is My Mind?  \\\n",
       "user_id                                                       \n",
       "000a5c8b4d8b2c98f7a205219181d039edcd4506                  0   \n",
       "000d2df2cb8ad7300f89512f8fe8fadc4f99e733                  0   \n",
       "000ebc858861aca26bac9b49f650ed424cf882fc                  0   \n",
       "000ef25cc955ad5841c915d269432eea41f4a1a5                  0   \n",
       "001322829b5dc3edc59bf78189617ddd8f23c82a                  0   \n",
       "\n",
       "title                                     Where You'll Find Me Now  Whisper  \\\n",
       "user_id                                                                       \n",
       "000a5c8b4d8b2c98f7a205219181d039edcd4506                         0        0   \n",
       "000d2df2cb8ad7300f89512f8fe8fadc4f99e733                         0        0   \n",
       "000ebc858861aca26bac9b49f650ed424cf882fc                         0        0   \n",
       "000ef25cc955ad5841c915d269432eea41f4a1a5                         0        0   \n",
       "001322829b5dc3edc59bf78189617ddd8f23c82a                         0        0   \n",
       "\n",
       "title                                     With Everything  Workin For A Livin  \\\n",
       "user_id                                                                         \n",
       "000a5c8b4d8b2c98f7a205219181d039edcd4506                0                   0   \n",
       "000d2df2cb8ad7300f89512f8fe8fadc4f99e733                0                   0   \n",
       "000ebc858861aca26bac9b49f650ed424cf882fc                0                   0   \n",
       "000ef25cc955ad5841c915d269432eea41f4a1a5                0                   0   \n",
       "001322829b5dc3edc59bf78189617ddd8f23c82a                0                   0   \n",
       "\n",
       "title                                     World Looking In (Radio Edit)  \\\n",
       "user_id                                                                   \n",
       "000a5c8b4d8b2c98f7a205219181d039edcd4506                              0   \n",
       "000d2df2cb8ad7300f89512f8fe8fadc4f99e733                              0   \n",
       "000ebc858861aca26bac9b49f650ed424cf882fc                              0   \n",
       "000ef25cc955ad5841c915d269432eea41f4a1a5                              0   \n",
       "001322829b5dc3edc59bf78189617ddd8f23c82a                              0   \n",
       "\n",
       "title                                     Wrecking Ball  Yellow Sun  \\\n",
       "user_id                                                               \n",
       "000a5c8b4d8b2c98f7a205219181d039edcd4506              0           0   \n",
       "000d2df2cb8ad7300f89512f8fe8fadc4f99e733              0           0   \n",
       "000ebc858861aca26bac9b49f650ed424cf882fc              0           0   \n",
       "000ef25cc955ad5841c915d269432eea41f4a1a5              0           0   \n",
       "001322829b5dc3edc59bf78189617ddd8f23c82a              0           0   \n",
       "\n",
       "title                                     You Never Let Go  \n",
       "user_id                                                     \n",
       "000a5c8b4d8b2c98f7a205219181d039edcd4506                 0  \n",
       "000d2df2cb8ad7300f89512f8fe8fadc4f99e733                 0  \n",
       "000ebc858861aca26bac9b49f650ed424cf882fc                 0  \n",
       "000ef25cc955ad5841c915d269432eea41f4a1a5                 0  \n",
       "001322829b5dc3edc59bf78189617ddd8f23c82a                 0  \n",
       "\n",
       "[5 rows x 178 columns]"
      ]
     },
     "execution_count": 67,
     "metadata": {},
     "output_type": "execute_result"
    }
   ],
   "source": [
    "ct_df.head()"
   ]
  },
  {
   "cell_type": "code",
   "execution_count": 68,
   "id": "1be6de92",
   "metadata": {},
   "outputs": [
    {
     "data": {
      "text/plain": [
       "(178, 22251)"
      ]
     },
     "execution_count": 68,
     "metadata": {},
     "output_type": "execute_result"
    }
   ],
   "source": [
    "X = ct_df.values.T\n",
    "X.shape"
   ]
  },
  {
   "cell_type": "markdown",
   "id": "640d0c30",
   "metadata": {},
   "source": [
    "### Compress dataset by applying Singular Value Decomposition (SVD)"
   ]
  },
  {
   "cell_type": "code",
   "execution_count": 69,
   "id": "8e9a5826",
   "metadata": {},
   "outputs": [
    {
     "data": {
      "text/plain": [
       "(178, 20)"
      ]
     },
     "execution_count": 69,
     "metadata": {},
     "output_type": "execute_result"
    }
   ],
   "source": [
    "SVD  = TruncatedSVD(n_components=20, random_state=17)\n",
    "result_matrix = SVD.fit_transform(X)\n",
    "result_matrix.shape"
   ]
  },
  {
   "cell_type": "markdown",
   "id": "8bb0dc7e",
   "metadata": {},
   "source": [
    "### Create Pearson coorelation matrix"
   ]
  },
  {
   "cell_type": "code",
   "execution_count": 70,
   "id": "6d8c10c1",
   "metadata": {},
   "outputs": [
    {
     "data": {
      "text/plain": [
       "(178, 178)"
      ]
     },
     "execution_count": 70,
     "metadata": {},
     "output_type": "execute_result"
    }
   ],
   "source": [
    "corr_mat = np.corrcoef(result_matrix)\n",
    "corr_mat.shape"
   ]
  },
  {
   "cell_type": "markdown",
   "id": "1f164ada",
   "metadata": {},
   "source": [
    "### Print songs related to specific song"
   ]
  },
  {
   "cell_type": "code",
   "execution_count": 71,
   "id": "94fbd859",
   "metadata": {},
   "outputs": [
    {
     "name": "stdout",
     "output_type": "stream",
     "text": [
      "['10 Miles Wide', 'A Horse Is Not A Home', \"Ain't Nobody\", 'All My Friends', 'All The Right Moves', 'Angel Malherido', 'Ante Up (Robbin Hoodz Theory)', 'Auburn and Ivory', 'Away With Murder', 'B-B-B-Baby', 'Baby Boy [feat. Beyonce]', 'Back At One', 'Bad Actors', 'Barfly', 'Beat It', 'Bermuda', 'Best Of Both Worlds (Remastered Album Version)', 'Better in time', 'Between Two Lungs', 'Big Weenie', 'Born to raise hell', 'Break Through', 'Calm Down Baby', 'Cannabis', 'Change Down / The Sugar Rhyme', 'Che Sara', 'Check On It', \"Crockett's Theme\", 'Cruel Summer', 'Damn Girl', 'Dial Me Up', 'Do You Love Me', \"Don't Wake Me (Album Version)\", \"Don't You Evah (Album version)\", 'Downfall', 'Driven To Tears', 'Drop The Pressure', 'Dysfunctional (feat. Big Scoob & Krizz Kaliko)', 'Elevator Love Letter', 'Engwish Bwudd', 'Espera', 'Every Little Thing (Album Version)', 'Faster [Explicit Version]', \"Fire Coming Out Of The Monkey's Head\", 'Flash', 'Floaty', 'Fog. Vs. Mould For The Next Of Love', 'Forever & Always', 'Frases Mudas', 'Free Love', 'G4L', 'Girl Next Door', 'Give It Up (LP Version)', 'Glamorous', 'Gloomy', 'Going Nowhere', 'Gold Mine Gutted', 'Hail To Whatever You Found In The Sunlight That Surrounds You', 'Hall of Fame', 'Hard To Explain', 'Hearts Burst Into Fire', 'Hearts On Fire', 'Higinia (Album Version)', 'Hollywood Blvd._ 2:17 AM', 'I Put A Spell On You', \"I'm Bad\", \"I'm Illy (Explicit Album Version)\", 'If Looks Could Kill...', 'In The Closet', 'Inaudible Melodies', 'Innocent Son', 'Is This It', 'Isolation', 'It All Dies Anyway', \"It's A Great Day To Be Alive (2006 Remastered LP Version)\", \"It's Me I'm Worried About\", 'JXL Radio Technical Support (Album Version)', 'Just A Man', 'Just Friends (Sunny)', 'K.K.K.', 'Karma Police', 'Keep Away', 'Kickstarts', 'Kissing Behind The Rubbery Grinder', 'Land of Hope and Dreams', 'Latin Static', 'Legalize It', 'Lesson Learned', \"Let's Go (Produced by B.R. Gunna)\", 'Life In A Northern Town (LP Version)', 'Lived In Bars', 'Long Forgotten Sons', 'Love Your Love The Most', 'MMMBop', 'Majesty', 'Major Tom (Coming Home)', 'Make Love To Your Mind', 'Mary Jane (Acoustic Album Version)', 'Me And Bobby McGee', 'Middle Of Nowhere (Album Version)', 'Molfsee', \"Money Ain't A Thang\", \"Mother's Journey\", 'Motion Sickness', 'My Paper Heart', 'Never', 'Nightlite (Zero dB Reconstruction - Radio Edit)', 'No Sleep Till Brooklyn', 'No. 5', \"Not Good Enough For Truth In Cliche'\", 'Not The Doctor (LP Version)', 'Ocean And Atlantic (Album)', 'One Beat', 'One Day Too Late (Album Version)', 'Ooh La La', 'Parklife', 'Pass The Dutch', 'Play Girl', 'Poor Jackie', 'Postcards From Italy', 'Push It', 'Rammstein', 'Red Socks Pugie', 'Reign of Terror', 'Rio', 'Rock & Roll Queen', 'Roxanne', 'Safe and Sound', 'Say You Will', 'Sea Horse', \"Shakin' Hands (Album Version)\", 'Shame', 'Short Circuit', 'Shove It [feat. SpankRock]', 'Show Me How To Live', 'Si Senor', 'Si Yo Fuera Un Chico', 'Simplest Love', 'Sleeping In The Ground', 'Spaceship', 'Stay Together (Includes Interlude)', 'Stripped', 'Suffragette City (1990 Digital Remaster)', 'Sultans of El Sur', 'Sweet Dreams', 'T-R-O-U-B-L-E', 'Take Me Away', 'Te Mando Flores', 'Teenager', 'The Best Of Times', 'The Body Of An American', 'The Diary', 'The Hardest Part', 'To Zion', 'Tobacco Island', 'Too Drunk to Fuck', 'Top Drawer', 'Triumphant', 'Tu Silencio', 'Un Camino Hasta Vos', 'Unfold (Eagles Ballroom Live Version)', 'Urlando contro il cielo [Remastered]', 'Vanished', 'Vem Comigo', 'We Are Your Friends (Reprise) (Album Version)', 'We Can Make It Better', 'Werewolf', 'What Am I Gonna Do With You', 'Whenever I Say Your Name', 'Where Is My Mind?', \"Where You'll Find Me Now\", 'Whisper', 'With Everything', 'Workin For A Livin', 'World Looking In (Radio Edit)', 'Wrecking Ball', 'Yellow Sun', 'You Never Let Go']\n"
     ]
    }
   ],
   "source": [
    "song_names = ct_df.columns\n",
    "song_list = list(song_names)\n",
    "print(song_list)\n"
   ]
  },
  {
   "cell_type": "code",
   "execution_count": 72,
   "id": "fa5459c4",
   "metadata": {},
   "outputs": [
    {
     "name": "stdout",
     "output_type": "stream",
     "text": [
      "154\n"
     ]
    }
   ],
   "source": [
    "#query_index = song_list.index('Yellow Sun')\n",
    "#query_index = song_list.index('The Hardest Part')\n",
    "#query_index = song_list.index('Whenever I Say Your Name')\n",
    "query_index = song_list.index(\"Tobacco Island\")\n",
    "\n",
    "#query_index = song_list.index(song_title)\n",
    "print(query_index)"
   ]
  },
  {
   "cell_type": "code",
   "execution_count": 73,
   "id": "082efeae",
   "metadata": {},
   "outputs": [
    {
     "name": "stdout",
     "output_type": "stream",
     "text": [
      "[ 1.75621668e-01 -1.08128919e-01  6.80193218e-01 -4.04942478e-02\n",
      " -6.93222622e-02 -1.03811950e-01  9.73068588e-02 -1.21051886e-01\n",
      "  1.44125933e-01 -4.05837759e-02 -1.43233947e-02  7.30931164e-01\n",
      "  7.52742921e-02 -6.74826304e-02  4.77369299e-01 -7.04825135e-02\n",
      " -4.15638163e-02 -5.49527132e-02  2.74128937e-03  4.36831778e-02\n",
      "  4.97805576e-01 -4.14198278e-02 -1.42018148e-01 -1.60442221e-02\n",
      "  2.97651096e-01 -9.20702087e-02 -1.30827000e-01 -3.28028784e-02\n",
      "  3.43322227e-01  2.65900093e-01 -7.10491427e-02  7.43728915e-02\n",
      "  1.03870893e-01  2.07495783e-02  3.57417480e-01  5.74654025e-01\n",
      "  1.12847404e-02  1.71272414e-01 -4.36296044e-02 -1.23748821e-01\n",
      " -1.45028604e-01 -7.10574802e-02 -3.76019460e-02 -6.70734800e-02\n",
      " -5.43792463e-02  1.48621881e-01  1.66226394e-01  6.50993670e-01\n",
      " -8.36220561e-02  1.48163063e-01 -9.25550434e-02 -1.57141645e-01\n",
      " -7.03815770e-02 -7.11921253e-02  8.50737278e-01  6.63992046e-02\n",
      "  4.78253054e-01  8.29431656e-02 -1.78224757e-02  4.47989572e-01\n",
      " -9.22389844e-02 -9.04421906e-02  1.24945410e-01  2.99526475e-02\n",
      "  9.84649535e-01 -1.14159498e-01  5.97550102e-02  1.38286883e-01\n",
      "  5.40660476e-01 -4.38840224e-02 -1.03233883e-01  8.36032017e-02\n",
      " -2.78952273e-02 -1.65035466e-01  4.06659990e-01  3.50736561e-01\n",
      " -6.06916102e-02  8.41990829e-02 -8.38888772e-02 -8.80012171e-02\n",
      "  1.11153360e-02  1.70710586e-02  9.94181092e-02  3.08417957e-02\n",
      "  1.40760198e-01 -5.55285151e-02 -7.27208883e-02 -5.96239313e-02\n",
      "  1.38812076e-02 -7.95602936e-02 -4.53003773e-02  2.00915468e-01\n",
      " -8.61769756e-02  9.51808404e-01 -3.84187089e-02  1.01108838e-01\n",
      " -5.91339867e-02  1.18057736e-02 -6.42288479e-02 -1.12482441e-01\n",
      "  1.35552291e-01 -1.06896964e-01 -4.58759063e-02 -8.67809938e-02\n",
      "  7.52436615e-02 -3.40586408e-02  1.47365734e-01  7.49899515e-01\n",
      "  8.41334543e-02  4.73791040e-01  1.46794081e-02 -7.77406065e-02\n",
      " -1.06618301e-01  7.26656554e-02 -1.04504605e-01 -1.89749067e-02\n",
      " -1.10810195e-01  1.33036576e-02  3.04795316e-01 -2.37108763e-02\n",
      " -1.85175652e-03 -6.24577603e-02  1.63188695e-01  1.47217912e-02\n",
      "  9.80177766e-02 -3.72751150e-02  9.31538424e-01  9.31786205e-02\n",
      " -8.68516655e-02  8.00492830e-02 -2.40115933e-03  3.27511111e-02\n",
      " -8.42302492e-02 -6.70124258e-02  1.13690256e-01  2.40589388e-03\n",
      "  3.53858811e-01  2.11726484e-01  8.21384265e-01 -6.50671886e-04\n",
      " -1.06546954e-01  2.51103287e-03  8.68651461e-01 -1.10378188e-01\n",
      "  5.37281861e-01  9.77970706e-01  1.79719400e-01 -4.60057549e-02\n",
      "  5.26525311e-02  3.84106570e-02 -5.91067507e-02  8.26218779e-02\n",
      "  6.61194345e-01  9.31774916e-01  1.00000000e+00 -2.47179487e-02\n",
      "  8.24556131e-01  9.20438922e-01 -5.08646123e-02 -1.06860613e-01\n",
      "  1.11712349e-01 -1.22628978e-01  1.72994178e-02 -4.21564173e-02\n",
      " -1.81350622e-01 -1.09262057e-01 -8.13715968e-02  5.17418149e-02\n",
      "  2.11573584e-01 -3.51487543e-02 -6.09872213e-02 -7.78454301e-02\n",
      " -1.15092090e-01  1.56963596e-01  3.58130158e-01 -1.16746818e-01\n",
      "  7.05564056e-02 -9.71114196e-02]\n",
      "<class 'list'>\n",
      "[False False False False False False False False False False False False\n",
      " False False False False False False False False False False False False\n",
      " False False False False False False False False False False False False\n",
      " False False False False False False False False False False False False\n",
      " False False False False False False False False False False False False\n",
      " False False False False  True False False False False False False False\n",
      " False False False False False False False False False False False False\n",
      " False False False False False False False False False  True False False\n",
      " False False False False False False False False False False False False\n",
      " False False False False False False False False False False False False\n",
      " False False False False False False  True False False False False False\n",
      " False False False False False False False False False False False False\n",
      " False  True False False False False False False False  True  True False\n",
      " False  True False False False False False False False False False False\n",
      " False False False False False False False False False False]\n"
     ]
    }
   ],
   "source": [
    "corr_similar_songs = corr_mat[query_index]\n",
    "corr_similar_songs.shape\n",
    "print(corr_similar_songs)\n",
    "print(type(song_list))\n",
    "print((corr_similar_songs<1.0) & (corr_similar_songs>0.9))"
   ]
  },
  {
   "cell_type": "code",
   "execution_count": 74,
   "id": "27c8cce9",
   "metadata": {},
   "outputs": [
    {
     "data": {
      "text/plain": [
       "['I Put A Spell On You', 'Tobacco Island']"
      ]
     },
     "execution_count": 74,
     "metadata": {},
     "output_type": "execute_result"
    }
   ],
   "source": [
    "list(song_names[(corr_similar_songs<1.0) & (corr_similar_songs>0.98)])"
   ]
  },
  {
   "cell_type": "code",
   "execution_count": null,
   "id": "c4a10122",
   "metadata": {},
   "outputs": [],
   "source": []
  },
  {
   "cell_type": "code",
   "execution_count": null,
   "id": "fde5ef96",
   "metadata": {},
   "outputs": [],
   "source": []
  },
  {
   "cell_type": "code",
   "execution_count": null,
   "id": "ed9bba46",
   "metadata": {},
   "outputs": [],
   "source": []
  }
 ],
 "metadata": {
  "kernelspec": {
   "display_name": "Python 3 (ipykernel)",
   "language": "python",
   "name": "python3"
  },
  "language_info": {
   "codemirror_mode": {
    "name": "ipython",
    "version": 3
   },
   "file_extension": ".py",
   "mimetype": "text/x-python",
   "name": "python",
   "nbconvert_exporter": "python",
   "pygments_lexer": "ipython3",
   "version": "3.9.13"
  }
 },
 "nbformat": 4,
 "nbformat_minor": 5
}
